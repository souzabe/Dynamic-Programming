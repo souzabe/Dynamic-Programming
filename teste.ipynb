{
 "cells": [
  {
   "cell_type": "code",
   "execution_count": 21,
   "metadata": {},
   "outputs": [
    {
     "data": {
      "text/plain": [
       "['Ao', '2c', '3e', '4p']"
      ]
     },
     "execution_count": 21,
     "metadata": {},
     "output_type": "execute_result"
    }
   ],
   "source": [
    "def cria_naipe(naipe):\n",
    "    cartas = [\"A\", \"2\", \"3\", \"4\", \"5\", \"6\", \"7\", \"8\", \"9\", \"10\", \"J\", \"Q\", \"K\"]\n",
    "    baralho=[]\n",
    "    a = 0\n",
    "    for i in cartas:\n",
    "        if a < 4:\n",
    "            baralho.append(i + naipe[a])\n",
    "            a += 1\n",
    "        \n",
    "        \n",
    "\n",
    "    \n",
    "    return baralho\n",
    "\n",
    "naipe = ['o', 'c', 'e', 'p']\n",
    "cria_naipe(naipe)"
   ]
  }
 ],
 "metadata": {
  "kernelspec": {
   "display_name": "Python 3",
   "language": "python",
   "name": "python3"
  },
  "language_info": {
   "codemirror_mode": {
    "name": "ipython",
    "version": 3
   },
   "file_extension": ".py",
   "mimetype": "text/x-python",
   "name": "python",
   "nbconvert_exporter": "python",
   "pygments_lexer": "ipython3",
   "version": "3.12.3"
  }
 },
 "nbformat": 4,
 "nbformat_minor": 2
}
